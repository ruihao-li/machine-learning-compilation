{
 "cells": [
  {
   "cell_type": "code",
   "execution_count": 1,
   "metadata": {},
   "outputs": [],
   "source": [
    "import torch\n",
    "import torch.nn as nn\n",
    "import matplotlib.pyplot as plt\n",
    "import time\n",
    "import math\n",
    "\n",
    "from utils import all_letters, n_letters\n",
    "from utils import load_data, letter_to_tensor, line_to_tensor, category_from_output, random_choice"
   ]
  },
  {
   "cell_type": "code",
   "execution_count": 2,
   "metadata": {},
   "outputs": [
    {
     "name": "stdout",
     "output_type": "stream",
     "text": [
      "abcdefghijklmnopqrstuvwxyzABCDEFGHIJKLMNOPQRSTUVWXYZ .,;'\n",
      "57\n"
     ]
    }
   ],
   "source": [
    "print(all_letters)\n",
    "print(n_letters)"
   ]
  },
  {
   "cell_type": "markdown",
   "metadata": {},
   "source": [
    "## Creating the RNN\n",
    "\n",
    "We create a RNN from scratch (instead of using the `torch.nn.RNN` module) with the following structure:\n",
    "\n",
    "![RNN_structure](./img/rnn_structure.png)\n",
    "\n",
    "It just contains 2 linear layers which operate on an input and a hidden state, with a `LogSoftmax` layer after the output."
   ]
  },
  {
   "cell_type": "code",
   "execution_count": 3,
   "metadata": {},
   "outputs": [],
   "source": [
    "class RNN(nn.Module):\n",
    "    def __init__(self, input_size, hidden_size, output_size):\n",
    "        super(RNN, self).__init__()\n",
    "\n",
    "        self.hidden_size = hidden_size\n",
    "        self.i2h = nn.Linear(input_size + hidden_size, hidden_size)\n",
    "        self.i2o = nn.Linear(input_size + hidden_size, output_size)\n",
    "        self.softmax = nn.LogSoftmax(dim=1) # input dim: (1, n_letters); need the second dimension here\n",
    "\n",
    "    def forward(self, input, hidden):\n",
    "        combined = torch.cat((input, hidden), 1)\n",
    "        hidden = self.i2h(combined)\n",
    "        output = self.i2o(combined)\n",
    "        output = self.softmax(output)\n",
    "        return output, hidden\n",
    "\n",
    "    def init_hidden(self):\n",
    "        return torch.zeros(1, self.hidden_size)"
   ]
  },
  {
   "cell_type": "markdown",
   "metadata": {},
   "source": [
    "To run a step of this RNN we need to pass an input (in our case, the tensor for the current letter) and a previous hidden state (which we initialize as zeros at first). We’ll get back the output (probability of each language) and a next hidden state (which we keep for the next step)."
   ]
  },
  {
   "cell_type": "code",
   "execution_count": 4,
   "metadata": {},
   "outputs": [],
   "source": [
    "category_lines, all_categories = load_data()\n",
    "n_categories = len(all_categories)\n",
    "\n",
    "n_hidden = 128\n",
    "rnn = RNN(n_letters, n_hidden, n_categories)"
   ]
  },
  {
   "cell_type": "code",
   "execution_count": 5,
   "metadata": {},
   "outputs": [
    {
     "name": "stdout",
     "output_type": "stream",
     "text": [
      "tensor([[-2.8563, -2.9437, -2.9173, -2.8658, -2.8919, -2.8246, -2.8596, -2.9411,\n",
      "         -2.9846, -2.8325, -2.9792, -2.9241, -2.9099, -2.8182, -2.8274, -2.9005,\n",
      "         -2.9402, -2.8346]], grad_fn=<LogSoftmaxBackward0>)\n"
     ]
    }
   ],
   "source": [
    "# Test for one step\n",
    "input = line_to_tensor('Albert')\n",
    "hidden = rnn.init_hidden()\n",
    "# Get \"A\" in the input\n",
    "output, next_hidden = rnn(input[0], hidden)\n",
    "print(output)\n",
    "# print(next_hidden)"
   ]
  },
  {
   "cell_type": "code",
   "execution_count": 6,
   "metadata": {},
   "outputs": [
    {
     "data": {
      "text/plain": [
       "('Portuguese', 13)"
      ]
     },
     "execution_count": 6,
     "metadata": {},
     "output_type": "execute_result"
    }
   ],
   "source": [
    "category_from_output(output, all_categories)"
   ]
  },
  {
   "cell_type": "markdown",
   "metadata": {},
   "source": [
    "## Training"
   ]
  },
  {
   "cell_type": "code",
   "execution_count": 7,
   "metadata": {},
   "outputs": [],
   "source": [
    "def random_training_example(category_lines, all_categories):\n",
    "    \"\"\"\n",
    "    Choose a random training example.\n",
    "    \"\"\"\n",
    "    category = random_choice(all_categories)\n",
    "    line = random_choice(category_lines[category])\n",
    "    category_tensor = torch.tensor([all_categories.index(category)], dtype=torch.long)\n",
    "    line_tensor = line_to_tensor(line)\n",
    "    return category, line, category_tensor, line_tensor"
   ]
  },
  {
   "cell_type": "code",
   "execution_count": 8,
   "metadata": {},
   "outputs": [],
   "source": [
    "criterion = nn.NLLLoss()\n",
    "learning_rate = 0.005\n",
    "optimizer = torch.optim.SGD(rnn.parameters(), lr=learning_rate)"
   ]
  },
  {
   "cell_type": "code",
   "execution_count": 9,
   "metadata": {},
   "outputs": [],
   "source": [
    "def train(category_tensor, line_tensor):\n",
    "    \"\"\"\n",
    "    Train the RNN on a single name.\n",
    "    \"\"\"\n",
    "    hidden = rnn.init_hidden()\n",
    "\n",
    "    rnn.zero_grad()\n",
    "\n",
    "    for i in range(line_tensor.size()[0]):\n",
    "        output, hidden = rnn(line_tensor[i], hidden)\n",
    "\n",
    "    loss = criterion(output, category_tensor)\n",
    "    \n",
    "    optimizer.zero_grad()\n",
    "    loss.backward()\n",
    "    optimizer.step()\n",
    "\n",
    "    return output, loss.item()"
   ]
  },
  {
   "cell_type": "code",
   "execution_count": 10,
   "metadata": {},
   "outputs": [
    {
     "name": "stdout",
     "output_type": "stream",
     "text": [
      "10000 5% (0m 8s) 1.8581 Matsuzawa / Italian ✗ (Japanese)\n",
      "20000 10% (0m 16s) 4.0361 Hahn / Vietnamese ✗ (German)\n",
      "30000 15% (0m 24s) 1.7390 Mohan / Arabic ✗ (Irish)\n",
      "40000 20% (0m 32s) 0.0639 Niemczyk / Polish ✓\n",
      "50000 25% (0m 40s) 0.2067 Cremonesi / Italian ✓\n",
      "60000 30% (0m 47s) 0.1591 Kyritsis / Greek ✓\n",
      "70000 35% (0m 55s) 7.0028 Aeschelman / Irish ✗ (German)\n",
      "80000 40% (1m 3s) 3.3304 Costa / Czech ✗ (Portuguese)\n",
      "90000 45% (1m 11s) 0.6360 Snijders / Dutch ✓\n",
      "100000 50% (1m 19s) 2.5865 Fleming / German ✗ (Scottish)\n",
      "110000 55% (1m 26s) 0.8399 Romao / Portuguese ✓\n",
      "120000 60% (1m 34s) 3.2065 Maria / Spanish ✗ (Italian)\n",
      "130000 65% (1m 42s) 0.2742 Cleirigh / Irish ✓\n",
      "140000 70% (1m 50s) 0.6419 Furst / German ✓\n",
      "150000 75% (1m 58s) 1.1481 Karl / German ✓\n",
      "160000 80% (2m 6s) 0.5094 Grammatakakis / Greek ✓\n",
      "170000 85% (2m 14s) 0.6343 Lindsay / Scottish ✓\n",
      "180000 90% (2m 21s) 1.6902 Trent / German ✗ (English)\n",
      "190000 95% (2m 29s) 0.5662 Morrison / Scottish ✓\n",
      "200000 100% (2m 38s) 0.0659 Yoon / Korean ✓\n"
     ]
    }
   ],
   "source": [
    "n_iters = 200000\n",
    "print_every = 10000\n",
    "plot_every = 1000\n",
    "\n",
    "# Keep track of losses for plotting\n",
    "current_loss = 0\n",
    "all_losses = []\n",
    "\n",
    "def time_since(since):\n",
    "    now = time.time()\n",
    "    s = now - since\n",
    "    m = math.floor(s / 60)\n",
    "    s -= m * 60\n",
    "    return '%dm %ds' % (m, s)\n",
    "\n",
    "start = time.time()\n",
    "\n",
    "for iter in range(1, n_iters+1):\n",
    "    category, line, category_tensor, line_tensor = random_training_example(category_lines, all_categories)\n",
    "    output, loss = train(category_tensor, line_tensor)\n",
    "    current_loss += loss\n",
    "\n",
    "    # Print iter number, loss, name and guess\n",
    "    if iter % print_every == 0:\n",
    "        guess, guess_i = category_from_output(output, all_categories)\n",
    "        correct = '✓' if guess == category else '✗ (%s)' % category\n",
    "        print('%d %d%% (%s) %.4f %s / %s %s' % (iter, iter / n_iters * 100, time_since(start), loss, line, guess, correct))\n",
    "\n",
    "    # Add current loss avg to list of losses\n",
    "    if iter % plot_every == 0:\n",
    "        all_losses.append(current_loss / plot_every)\n",
    "        current_loss = 0"
   ]
  },
  {
   "cell_type": "code",
   "execution_count": 17,
   "metadata": {},
   "outputs": [
    {
     "data": {
      "image/png": "[encoded data removed]",
      "text/plain": [
       "<Figure size 504x360 with 1 Axes>"
      ]
     },
     "metadata": {
      "needs_background": "light"
     },
     "output_type": "display_data"
    }
   ],
   "source": [
    "plt.figure(figsize=(7, 5))\n",
    "plt.plot(all_losses)\n",
    "plt.xlabel('Iter')\n",
    "plt.ylabel('Loss')\n",
    "plt.show()"
   ]
  },
  {
   "cell_type": "markdown",
   "metadata": {},
   "source": [
    "## Testing"
   ]
  },
  {
   "cell_type": "markdown",
   "metadata": {},
   "source": [
    "To see how well the network performs on different categories, we will create a confusion matrix, indicating for every actual language (rows) which language the network guesses (columns). "
   ]
  },
  {
   "cell_type": "code",
   "execution_count": 12,
   "metadata": {},
   "outputs": [],
   "source": [
    "def evaluate(line_tensor):\n",
    "    \"\"\"\n",
    "    Evaluate the RNN on a single line.\n",
    "    \"\"\"\n",
    "    hidden = rnn.init_hidden()\n",
    "\n",
    "    for i in range(line_tensor.size()[0]):\n",
    "        output, hidden = rnn(line_tensor[i], hidden)\n",
    "\n",
    "    return output"
   ]
  },
  {
   "cell_type": "code",
   "execution_count": 13,
   "metadata": {},
   "outputs": [],
   "source": [
    "# Keep track of correct guesses in a confusion matrix\n",
    "confusion = torch.zeros(n_categories, n_categories)\n",
    "n_confusion = 10000\n",
    "\n",
    "for i in range(n_confusion):\n",
    "    category, line, category_tensor, line_tensor = random_training_example(category_lines, all_categories)\n",
    "    output = evaluate(line_tensor)\n",
    "    guess, guess_i = category_from_output(output, all_categories)\n",
    "    category_i = all_categories.index(category)\n",
    "    confusion[category_i][guess_i] += 1\n",
    "\n",
    "# Normalize by dividing every row by its sum\n",
    "for i in range(n_categories):\n",
    "    confusion[i] = confusion[i] / confusion[i].sum()"
   ]
  },
  {
   "cell_type": "code",
   "execution_count": 14,
   "metadata": {},
   "outputs": [
    {
     "data": {
      "image/png": "[encoded data removed]",
      "text/plain": [
       "<Figure size 720x576 with 2 Axes>"
      ]
     },
     "metadata": {
      "needs_background": "light"
     },
     "output_type": "display_data"
    }
   ],
   "source": [
    "fig = plt.figure(figsize=(10,8))\n",
    "ax = fig.add_subplot(111)\n",
    "cax = ax.matshow(confusion.numpy())\n",
    "fig.colorbar(cax)\n",
    "\n",
    "ax.set_xticks(range(n_categories))\n",
    "ax.set_xticklabels(all_categories, rotation=90)\n",
    "ax.set_yticks(range(n_categories))\n",
    "ax.set_yticklabels(all_categories)\n",
    "\n",
    "plt.show()"
   ]
  },
  {
   "cell_type": "code",
   "execution_count": 15,
   "metadata": {},
   "outputs": [],
   "source": [
    "def predict(input_line, n_predictions=3):\n",
    "    print('\\n> %s' % input_line)\n",
    "    with torch.no_grad():\n",
    "        output = evaluate(line_to_tensor(input_line))\n",
    "\n",
    "        # Get top N categories (N = output size = n_categories)\n",
    "        topv, topi = output.topk(n_predictions, 1, largest=True)\n",
    "        predictions = []\n",
    "\n",
    "        for i in range(n_predictions):\n",
    "            value = topv[0][i].item()\n",
    "            category_index = topi[0][i].item()\n",
    "            print('(%.2f) %s' % (value, all_categories[category_index]))\n",
    "            predictions.append([value, all_categories[category_index]])"
   ]
  },
  {
   "cell_type": "code",
   "execution_count": 16,
   "metadata": {},
   "outputs": [
    {
     "name": "stdout",
     "output_type": "stream",
     "text": [
      "\n",
      "> Dovesky\n",
      "(-0.72) Czech\n",
      "(-1.38) Russian\n",
      "(-2.21) English\n",
      "\n",
      "> Jackson\n",
      "(-0.10) Scottish\n",
      "(-3.33) English\n",
      "(-3.87) German\n",
      "\n",
      "> Satoshi\n",
      "(-1.26) Arabic\n",
      "(-1.52) Japanese\n",
      "(-1.66) Polish\n",
      "\n",
      "> Huay\n",
      "(-0.75) Arabic\n",
      "(-1.72) Scottish\n",
      "(-2.01) Vietnamese\n"
     ]
    }
   ],
   "source": [
    "predict('Dovesky')\n",
    "predict('Jackson')\n",
    "predict('Satoshi')\n",
    "predict('Huay')"
   ]
  }
 ],
 "metadata": {
  "kernelspec": {
   "display_name": "Python 3.8.8 ('base')",
   "language": "python",
   "name": "python3"
  },
  "language_info": {
   "codemirror_mode": {
    "name": "ipython",
    "version": 3
   },
   "file_extension": ".py",
   "mimetype": "text/x-python",
   "name": "python",
   "nbconvert_exporter": "python",
   "pygments_lexer": "ipython3",
   "version": "3.8.8"
  },
  "orig_nbformat": 4,
  "vscode": {
   "interpreter": {
    "hash": "32144526e3e48b1da32ceaab4ff5300b6c301be9548fec2b2ea4fc4d43cc13cc"
   }
  }
 },
 "nbformat": 4,
 "nbformat_minor": 2
}
