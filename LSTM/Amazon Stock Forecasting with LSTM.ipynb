{
 "cells": [
  {
   "cell_type": "code",
   "execution_count": 82,
   "metadata": {},
   "outputs": [],
   "source": [
    "import pandas as pd\n",
    "import numpy as np\n",
    "import matplotlib.pyplot as plt\n",
    "\n",
    "import torch\n",
    "import torch.nn as nn"
   ]
  },
  {
   "attachments": {},
   "cell_type": "markdown",
   "metadata": {},
   "source": [
    "# Introduction\n",
    "In this project, we are going to apply LSTM on the historical stock close data to predict the future stock price of Amazon. Let's first take a look at the data."
   ]
  },
  {
   "cell_type": "code",
   "execution_count": 83,
   "metadata": {},
   "outputs": [],
   "source": [
    "data = pd.read_csv('/Users/weishanhe/my_github/deep_learning/LSTM/AMZN.csv')"
   ]
  },
  {
   "cell_type": "code",
   "execution_count": 84,
   "metadata": {},
   "outputs": [
    {
     "name": "stdout",
     "output_type": "stream",
     "text": [
      "<class 'pandas.core.frame.DataFrame'>\n",
      "RangeIndex: 6516 entries, 0 to 6515\n",
      "Data columns (total 7 columns):\n",
      " #   Column     Non-Null Count  Dtype  \n",
      "---  ------     --------------  -----  \n",
      " 0   Date       6516 non-null   object \n",
      " 1   Open       6516 non-null   float64\n",
      " 2   High       6516 non-null   float64\n",
      " 3   Low        6516 non-null   float64\n",
      " 4   Close      6516 non-null   float64\n",
      " 5   Adj Close  6516 non-null   float64\n",
      " 6   Volume     6516 non-null   int64  \n",
      "dtypes: float64(5), int64(1), object(1)\n",
      "memory usage: 356.5+ KB\n"
     ]
    }
   ],
   "source": [
    "data.info() \n",
    "# great! there is no missing data"
   ]
  },
  {
   "cell_type": "code",
   "execution_count": 85,
   "metadata": {},
   "outputs": [
    {
     "data": {
      "text/html": [
       "<div>\n",
       "<style scoped>\n",
       "    .dataframe tbody tr th:only-of-type {\n",
       "        vertical-align: middle;\n",
       "    }\n",
       "\n",
       "    .dataframe tbody tr th {\n",
       "        vertical-align: top;\n",
       "    }\n",
       "\n",
       "    .dataframe thead th {\n",
       "        text-align: right;\n",
       "    }\n",
       "</style>\n",
       "<table border=\"1\" class=\"dataframe\">\n",
       "  <thead>\n",
       "    <tr style=\"text-align: right;\">\n",
       "      <th></th>\n",
       "      <th>Date</th>\n",
       "      <th>Open</th>\n",
       "      <th>High</th>\n",
       "      <th>Low</th>\n",
       "      <th>Close</th>\n",
       "      <th>Adj Close</th>\n",
       "      <th>Volume</th>\n",
       "    </tr>\n",
       "  </thead>\n",
       "  <tbody>\n",
       "    <tr>\n",
       "      <th>0</th>\n",
       "      <td>1997-05-15</td>\n",
       "      <td>0.121875</td>\n",
       "      <td>0.125000</td>\n",
       "      <td>0.096354</td>\n",
       "      <td>0.097917</td>\n",
       "      <td>0.097917</td>\n",
       "      <td>1443120000</td>\n",
       "    </tr>\n",
       "    <tr>\n",
       "      <th>1</th>\n",
       "      <td>1997-05-16</td>\n",
       "      <td>0.098438</td>\n",
       "      <td>0.098958</td>\n",
       "      <td>0.085417</td>\n",
       "      <td>0.086458</td>\n",
       "      <td>0.086458</td>\n",
       "      <td>294000000</td>\n",
       "    </tr>\n",
       "    <tr>\n",
       "      <th>2</th>\n",
       "      <td>1997-05-19</td>\n",
       "      <td>0.088021</td>\n",
       "      <td>0.088542</td>\n",
       "      <td>0.081250</td>\n",
       "      <td>0.085417</td>\n",
       "      <td>0.085417</td>\n",
       "      <td>122136000</td>\n",
       "    </tr>\n",
       "    <tr>\n",
       "      <th>3</th>\n",
       "      <td>1997-05-20</td>\n",
       "      <td>0.086458</td>\n",
       "      <td>0.087500</td>\n",
       "      <td>0.081771</td>\n",
       "      <td>0.081771</td>\n",
       "      <td>0.081771</td>\n",
       "      <td>109344000</td>\n",
       "    </tr>\n",
       "    <tr>\n",
       "      <th>4</th>\n",
       "      <td>1997-05-21</td>\n",
       "      <td>0.081771</td>\n",
       "      <td>0.082292</td>\n",
       "      <td>0.068750</td>\n",
       "      <td>0.071354</td>\n",
       "      <td>0.071354</td>\n",
       "      <td>377064000</td>\n",
       "    </tr>\n",
       "  </tbody>\n",
       "</table>\n",
       "</div>"
      ],
      "text/plain": [
       "         Date      Open      High       Low     Close  Adj Close      Volume\n",
       "0  1997-05-15  0.121875  0.125000  0.096354  0.097917   0.097917  1443120000\n",
       "1  1997-05-16  0.098438  0.098958  0.085417  0.086458   0.086458   294000000\n",
       "2  1997-05-19  0.088021  0.088542  0.081250  0.085417   0.085417   122136000\n",
       "3  1997-05-20  0.086458  0.087500  0.081771  0.081771   0.081771   109344000\n",
       "4  1997-05-21  0.081771  0.082292  0.068750  0.071354   0.071354   377064000"
      ]
     },
     "execution_count": 85,
     "metadata": {},
     "output_type": "execute_result"
    }
   ],
   "source": [
    "# the stock price was preprocessed so that it does not match the scale of the price that we see on the market\n",
    "data.head() "
   ]
  },
  {
   "cell_type": "code",
   "execution_count": 86,
   "metadata": {},
   "outputs": [],
   "source": [
    "# in this project, we only focus on Date and Close, which is the price of the stock at the end of the day\n",
    "data = data[['Date', 'Close']]"
   ]
  },
  {
   "attachments": {},
   "cell_type": "markdown",
   "metadata": {},
   "source": [
    "I am using Mac. Below is the code Mac users can use to run the code on GPU. If you are using Windows, replace it with `device = 'cuda' if torch.cuda.is_available() else 'cpu'`. This project runs fast using CPU, so I didn't end up using GPU."
   ]
  },
  {
   "cell_type": "code",
   "execution_count": 87,
   "metadata": {},
   "outputs": [
    {
     "data": {
      "text/plain": [
       "'mps'"
      ]
     },
     "execution_count": 87,
     "metadata": {},
     "output_type": "execute_result"
    }
   ],
   "source": [
    "# we may use GPU to accelerate the training process\n",
    "device = 'mps' if torch.has_mps else 'cpu'\n",
    "device"
   ]
  },
  {
   "cell_type": "code",
   "execution_count": 88,
   "metadata": {},
   "outputs": [
    {
     "data": {
      "text/plain": [
       "[<matplotlib.lines.Line2D at 0x2b54b2550>]"
      ]
     },
     "execution_count": 88,
     "metadata": {},
     "output_type": "execute_result"
    },
    {
     "data": {
      "image/png": "[encoded data removed]",
      "text/plain": [
       "<Figure size 640x480 with 1 Axes>"
      ]
     },
     "metadata": {},
     "output_type": "display_data"
    }
   ],
   "source": [
    "data['Date'] = pd.to_datetime(data['Date'])\n",
    "plt.plot(data['Date'], data['Close'])"
   ]
  },
  {
   "attachments": {},
   "cell_type": "markdown",
   "metadata": {},
   "source": [
    "# Preprocess the data\n",
    "`Step 1`: \n",
    "For each day, we will use the previous 7 day's close price to predict the next day's close price. So we need to create a dataset that contains the previous 7 day's close price and the next day's close price. "
   ]
  },
  {
   "cell_type": "code",
   "execution_count": 89,
   "metadata": {},
   "outputs": [
    {
     "data": {
      "text/html": [
       "<div>\n",
       "<style scoped>\n",
       "    .dataframe tbody tr th:only-of-type {\n",
       "        vertical-align: middle;\n",
       "    }\n",
       "\n",
       "    .dataframe tbody tr th {\n",
       "        vertical-align: top;\n",
       "    }\n",
       "\n",
       "    .dataframe thead th {\n",
       "        text-align: right;\n",
       "    }\n",
       "</style>\n",
       "<table border=\"1\" class=\"dataframe\">\n",
       "  <thead>\n",
       "    <tr style=\"text-align: right;\">\n",
       "      <th></th>\n",
       "      <th>Close</th>\n",
       "      <th>Close(t-1)</th>\n",
       "      <th>Close(t-2)</th>\n",
       "      <th>Close(t-3)</th>\n",
       "      <th>Close(t-4)</th>\n",
       "      <th>Close(t-5)</th>\n",
       "      <th>Close(t-6)</th>\n",
       "      <th>Close(t-7)</th>\n",
       "    </tr>\n",
       "    <tr>\n",
       "      <th>Date</th>\n",
       "      <th></th>\n",
       "      <th></th>\n",
       "      <th></th>\n",
       "      <th></th>\n",
       "      <th></th>\n",
       "      <th></th>\n",
       "      <th></th>\n",
       "      <th></th>\n",
       "    </tr>\n",
       "  </thead>\n",
       "  <tbody>\n",
       "    <tr>\n",
       "      <th>1997-05-27</th>\n",
       "      <td>0.079167</td>\n",
       "      <td>0.075000</td>\n",
       "      <td>0.069792</td>\n",
       "      <td>0.071354</td>\n",
       "      <td>0.081771</td>\n",
       "      <td>0.085417</td>\n",
       "      <td>0.086458</td>\n",
       "      <td>0.097917</td>\n",
       "    </tr>\n",
       "    <tr>\n",
       "      <th>1997-05-28</th>\n",
       "      <td>0.076563</td>\n",
       "      <td>0.079167</td>\n",
       "      <td>0.075000</td>\n",
       "      <td>0.069792</td>\n",
       "      <td>0.071354</td>\n",
       "      <td>0.081771</td>\n",
       "      <td>0.085417</td>\n",
       "      <td>0.086458</td>\n",
       "    </tr>\n",
       "    <tr>\n",
       "      <th>1997-05-29</th>\n",
       "      <td>0.075260</td>\n",
       "      <td>0.076563</td>\n",
       "      <td>0.079167</td>\n",
       "      <td>0.075000</td>\n",
       "      <td>0.069792</td>\n",
       "      <td>0.071354</td>\n",
       "      <td>0.081771</td>\n",
       "      <td>0.085417</td>\n",
       "    </tr>\n",
       "    <tr>\n",
       "      <th>1997-05-30</th>\n",
       "      <td>0.075000</td>\n",
       "      <td>0.075260</td>\n",
       "      <td>0.076563</td>\n",
       "      <td>0.079167</td>\n",
       "      <td>0.075000</td>\n",
       "      <td>0.069792</td>\n",
       "      <td>0.071354</td>\n",
       "      <td>0.081771</td>\n",
       "    </tr>\n",
       "    <tr>\n",
       "      <th>1997-06-02</th>\n",
       "      <td>0.075521</td>\n",
       "      <td>0.075000</td>\n",
       "      <td>0.075260</td>\n",
       "      <td>0.076563</td>\n",
       "      <td>0.079167</td>\n",
       "      <td>0.075000</td>\n",
       "      <td>0.069792</td>\n",
       "      <td>0.071354</td>\n",
       "    </tr>\n",
       "  </tbody>\n",
       "</table>\n",
       "</div>"
      ],
      "text/plain": [
       "               Close  Close(t-1)  Close(t-2)  Close(t-3)  Close(t-4)  \\\n",
       "Date                                                                   \n",
       "1997-05-27  0.079167    0.075000    0.069792    0.071354    0.081771   \n",
       "1997-05-28  0.076563    0.079167    0.075000    0.069792    0.071354   \n",
       "1997-05-29  0.075260    0.076563    0.079167    0.075000    0.069792   \n",
       "1997-05-30  0.075000    0.075260    0.076563    0.079167    0.075000   \n",
       "1997-06-02  0.075521    0.075000    0.075260    0.076563    0.079167   \n",
       "\n",
       "            Close(t-5)  Close(t-6)  Close(t-7)  \n",
       "Date                                            \n",
       "1997-05-27    0.085417    0.086458    0.097917  \n",
       "1997-05-28    0.081771    0.085417    0.086458  \n",
       "1997-05-29    0.071354    0.081771    0.085417  \n",
       "1997-05-30    0.069792    0.071354    0.081771  \n",
       "1997-06-02    0.075000    0.069792    0.071354  "
      ]
     },
     "execution_count": 89,
     "metadata": {},
     "output_type": "execute_result"
    }
   ],
   "source": [
    "from copy import deepcopy as dc\n",
    "\n",
    "def prepare_dataframe_for_lstm(df, n_steps):\n",
    "    df = dc(df)\n",
    "\n",
    "    df.set_index('Date', inplace=True)\n",
    "\n",
    "    for i in range(1, n_steps+1):\n",
    "        df[f'Close(t-{i})'] = df['Close'].shift(i)\n",
    "    \n",
    "    df.dropna(inplace=True)\n",
    "\n",
    "    return df\n",
    "\n",
    "lookback = 7\n",
    "shifted_df = prepare_dataframe_for_lstm(data, lookback)\n",
    "shifted_df.head()\n",
    "# Close is our y, Close(t-1) to Close(t-7) will be our input X"
   ]
  },
  {
   "attachments": {},
   "cell_type": "markdown",
   "metadata": {},
   "source": [
    "`Step 2`:\n",
    "We need to normalize the data. We will use the MinMaxScaler from sklearn to normalize the data."
   ]
  },
  {
   "cell_type": "code",
   "execution_count": 90,
   "metadata": {},
   "outputs": [],
   "source": [
    "# convert dataframe to numpy array\n",
    "shifted_df_as_np = shifted_df.to_numpy()"
   ]
  },
  {
   "cell_type": "code",
   "execution_count": 91,
   "metadata": {},
   "outputs": [
    {
     "data": {
      "text/plain": [
       "array([[-0.99991063, -0.99995531, -1.        , ..., -0.99983244,\n",
       "        -0.99982128, -0.99969839],\n",
       "       [-0.99993855, -0.99991063, -0.99994415, ..., -0.99987154,\n",
       "        -0.99983244, -0.99982128],\n",
       "       [-0.99995253, -0.99993855, -0.99989946, ..., -0.99998325,\n",
       "        -0.99987154, -0.99983244],\n",
       "       ...,\n",
       "       [ 0.09747299,  0.10690997,  0.09308121, ...,  0.0506149 ,\n",
       "         0.05158   ,  0.05779984],\n",
       "       [ 0.11398769,  0.09747299,  0.10691495, ...,  0.04203581,\n",
       "         0.0506149 ,  0.05158   ],\n",
       "       [ 0.08342464,  0.11398769,  0.09747802, ...,  0.07431453,\n",
       "         0.04203581,  0.0506149 ]])"
      ]
     },
     "execution_count": 91,
     "metadata": {},
     "output_type": "execute_result"
    }
   ],
   "source": [
    "# normalize the data: we want to scale the data to the range of [-1, 1]\n",
    "from sklearn.preprocessing import MinMaxScaler\n",
    "\n",
    "scaler = MinMaxScaler(feature_range=(-1, 1))\n",
    "shifted_df_as_np = scaler.fit_transform(shifted_df_as_np)\n",
    "shifted_df_as_np"
   ]
  },
  {
   "cell_type": "code",
   "execution_count": 92,
   "metadata": {},
   "outputs": [
    {
     "data": {
      "text/plain": [
       "((6509, 7), (6509,))"
      ]
     },
     "execution_count": 92,
     "metadata": {},
     "output_type": "execute_result"
    }
   ],
   "source": [
    "# split the features and labels\n",
    "X = shifted_df_as_np[:, 1:]\n",
    "y = shifted_df_as_np[:, 0]\n",
    "\n",
    "X.shape, y.shape"
   ]
  },
  {
   "attachments": {},
   "cell_type": "markdown",
   "metadata": {},
   "source": [
    "`Step 3`:\n",
    "In LSTM, we feed the data from the past to the future, so we need to reverse the order of the data. Specifically, in the original dataframe, our data goes from Close(t-1), Close(t-2), ... to Close(t-7). We want to mirror the data along the horizontal axis so that the data goes from Close(t-7), Close(t-6), ... to Close(t-1)."
   ]
  },
  {
   "cell_type": "code",
   "execution_count": 93,
   "metadata": {},
   "outputs": [
    {
     "data": {
      "text/plain": [
       "array([[-0.99969839, -0.99982128, -0.99983244, ..., -0.99998325,\n",
       "        -1.        , -0.99995531],\n",
       "       [-0.99982128, -0.99983244, -0.99987154, ..., -1.        ,\n",
       "        -0.99994415, -0.99991063],\n",
       "       [-0.99983244, -0.99987154, -0.99998325, ..., -0.99994415,\n",
       "        -0.99989946, -0.99993855],\n",
       "       ...,\n",
       "       [ 0.05779984,  0.05158   ,  0.0506149 , ...,  0.07431453,\n",
       "         0.09308121,  0.10690997],\n",
       "       [ 0.05158   ,  0.0506149 ,  0.04203581, ...,  0.09308121,\n",
       "         0.10691495,  0.09747299],\n",
       "       [ 0.0506149 ,  0.04203581,  0.07431453, ...,  0.10691495,\n",
       "         0.09747802,  0.11398769]])"
      ]
     },
     "execution_count": 93,
     "metadata": {},
     "output_type": "execute_result"
    }
   ],
   "source": [
    "X = dc(np.flip(X, axis=1))\n",
    "X"
   ]
  },
  {
   "attachments": {},
   "cell_type": "markdown",
   "metadata": {},
   "source": [
    "`Step 4`:\n",
    "We need to split the data into training set and test set. We will use the first 95% of the data as training set and the last 5% of the data as test set."
   ]
  },
  {
   "cell_type": "code",
   "execution_count": 94,
   "metadata": {},
   "outputs": [
    {
     "data": {
      "text/plain": [
       "6183"
      ]
     },
     "execution_count": 94,
     "metadata": {},
     "output_type": "execute_result"
    }
   ],
   "source": [
    "split_index = int(len(X) * 0.95)\n",
    "split_index"
   ]
  },
  {
   "cell_type": "code",
   "execution_count": 95,
   "metadata": {},
   "outputs": [
    {
     "data": {
      "text/plain": [
       "((6183, 7), (326, 7), (6183,), (326,))"
      ]
     },
     "execution_count": 95,
     "metadata": {},
     "output_type": "execute_result"
    }
   ],
   "source": [
    "X_train = X[:split_index]\n",
    "X_test = X[split_index:]\n",
    "\n",
    "y_train = y[:split_index]\n",
    "y_test = y[split_index:]\n",
    "\n",
    "X_train.shape, X_test.shape, y_train.shape, y_test.shape "
   ]
  },
  {
   "attachments": {},
   "cell_type": "markdown",
   "metadata": {},
   "source": [
    "`Step 5`:\n",
    "Reshape the data to meet the requirement of LSTM in PyTorch. The input of LSTM, when batch_first=True, should be in the shape of (batch size, sequence length, input size). We have batch size and sequence length. We need to speficify the input size, which is the number of features we have, in our case, it is 1."
   ]
  },
  {
   "cell_type": "code",
   "execution_count": 96,
   "metadata": {},
   "outputs": [
    {
     "data": {
      "text/plain": [
       "((6183, 7, 1), (326, 7, 1), (6183, 1), (326, 1))"
      ]
     },
     "execution_count": 96,
     "metadata": {},
     "output_type": "execute_result"
    }
   ],
   "source": [
    "# it is required for PyTorch LSTM to have input shape as (batch_size, lookback, features)\n",
    "X_train = X_train.reshape((-1, lookback, 1))\n",
    "X_test = X_test.reshape((-1, lookback, 1))\n",
    "\n",
    "y_train = y_train.reshape((-1, 1))\n",
    "y_test = y_test.reshape((-1, 1))\n",
    "\n",
    "X_train.shape, X_test.shape, y_train.shape, y_test.shape"
   ]
  },
  {
   "attachments": {},
   "cell_type": "markdown",
   "metadata": {},
   "source": [
    "`Step 6`:\n",
    "Convert the data to PyTorch tensor. Create customized PyTorch dataset. And use PyTorch dataloader to shuffle and batch the data."
   ]
  },
  {
   "cell_type": "code",
   "execution_count": 97,
   "metadata": {},
   "outputs": [
    {
     "data": {
      "text/plain": [
       "(torch.Size([6183, 7, 1]),\n",
       " torch.Size([326, 7, 1]),\n",
       " torch.Size([6183, 1]),\n",
       " torch.Size([326, 1]))"
      ]
     },
     "execution_count": 97,
     "metadata": {},
     "output_type": "execute_result"
    }
   ],
   "source": [
    "# convert numpy array to PyTorch tensor\n",
    "\n",
    "X_train = torch.tensor(X_train).to(torch.float32)\n",
    "y_train = torch.tensor(y_train).to(torch.float32)\n",
    "X_test = torch.tensor(X_test).to(torch.float32)\n",
    "y_test = torch.tensor(y_test).to(torch.float32)\n",
    "\n",
    "X_train.shape, X_test.shape, y_train.shape, y_test.shape"
   ]
  },
  {
   "cell_type": "code",
   "execution_count": 98,
   "metadata": {},
   "outputs": [],
   "source": [
    "from torch.utils.data import Dataset\n",
    "\n",
    "class TimeSeriesDataset(Dataset):\n",
    "    \"\"\" \n",
    "    This class is used to combine X and y into a PyTorch Dataset.\n",
    "    \"\"\"\n",
    "    def __init__(self, X, y):\n",
    "        self.X = X\n",
    "        self.y = y\n",
    "    \n",
    "    def __len__(self):\n",
    "        return len(self.X)\n",
    "    \n",
    "    def __getitem__(self, i):\n",
    "        return self.X[i], self.y[i]\n",
    "    \n",
    "train_dataset = TimeSeriesDataset(X_train, y_train)\n",
    "test_dataset = TimeSeriesDataset(X_test, y_test)"
   ]
  },
  {
   "cell_type": "code",
   "execution_count": 99,
   "metadata": {},
   "outputs": [],
   "source": [
    "from torch.utils.data import DataLoader\n",
    "\n",
    "batch_size = 16\n",
    "train_loader = DataLoader(train_dataset, batch_size=batch_size, shuffle=True)\n",
    "test_loader = DataLoader(test_dataset, batch_size=batch_size, shuffle=False)"
   ]
  },
  {
   "cell_type": "code",
   "execution_count": 100,
   "metadata": {},
   "outputs": [
    {
     "name": "stdout",
     "output_type": "stream",
     "text": [
      "torch.Size([16, 7, 1]) torch.Size([16, 1])\n"
     ]
    }
   ],
   "source": [
    "for _, batch in enumerate(train_loader):\n",
    "    x_batch, y_batch = batch[0].to(device), batch[1].to(device)\n",
    "    print(x_batch.shape, y_batch.shape)\n",
    "    break"
   ]
  },
  {
   "attachments": {},
   "cell_type": "markdown",
   "metadata": {},
   "source": [
    "# Build the Model\n",
    "[Here](https://pytorch.org/docs/stable/generated/torch.nn.LSTM.html#torch.nn.LSTM) is an official guide of how to build a LSTM layer in PyTorch. I highly recommend you to get yourself familiar with the parameters and requirements of LSTM in PyTorch because to implement LSTM in PyTorch using nn.LSTM, you need to follow certain rules to reshape your data and input the required parameters. If you have doublts about why I use certain parameters, why I initialize the hidden state and cell state the way I do, please refer to the [official guide](https://pytorch.org/docs/stable/generated/torch.nn.LSTM.html).\n",
    "\n",
    "In this project, we will build a LSTM model with 1 LSTM layers because the model overfits quickly with our data. The shape of the output from the LSTM layer is (batch_size, seq_length, hidden_size). We extract the output at the last time step and feed it to a fully connected linear layer to convert the output of the LSTM layer to the desired output size, which is 1 in our case (the close stock price for the next day). We will use MSE loss and Adam optimizer.\n",
    "\n",
    "PyTorch LSTM parameters:\n",
    "* input_size – The number of expected features in the input x\n",
    "* hidden_size – The number of features in the hidden state h\n",
    "* num_layers – Number of recurrent layers. E.g., setting num_layers=2 would mean stacking two LSTMs together to form a stacked LSTM, with the second LSTM taking in outputs of the first LSTM and computing the final results. Default: 1"
   ]
  },
  {
   "cell_type": "code",
   "execution_count": 101,
   "metadata": {},
   "outputs": [
    {
     "data": {
      "text/plain": [
       "LSTM(\n",
       "  (lstm): LSTM(1, 4, batch_first=True)\n",
       "  (fc): Linear(in_features=4, out_features=1, bias=True)\n",
       ")"
      ]
     },
     "execution_count": 101,
     "metadata": {},
     "output_type": "execute_result"
    }
   ],
   "source": [
    "class LSTM(nn.Module):\n",
    "    def __init__(self, input_size, hidden_size, num_layers):\n",
    "        super().__init__()\n",
    "        self.hidden_size = hidden_size\n",
    "        self.num_layers = num_layers\n",
    "        self.lstm = nn.LSTM(input_size, hidden_size, num_layers, batch_first=True)\n",
    "        self.fc = nn.Linear(hidden_size, 1)\n",
    "    \n",
    "    def forward(self, x):\n",
    "        # dynamically get the batch size from the input x\n",
    "        batch_size = x.size(0)\n",
    "        # initialize the hidden state and cell state to zeros\n",
    "        h0 = torch.zeros(self.num_layers, batch_size, self.hidden_size).to(device)\n",
    "        c0 = torch.zeros(self.num_layers, batch_size, self.hidden_size).to(device)\n",
    "        out, _ = self.lstm(x, (h0, c0))\n",
    "        # we only need the output at the last time step (out[:, -1, :])\n",
    "        out = self.fc(out[:, -1, :])\n",
    "        return out\n",
    "\n",
    "model = LSTM(1, 4, 1).to(device)\n",
    "model"
   ]
  },
  {
   "attachments": {},
   "cell_type": "markdown",
   "metadata": {},
   "source": [
    "Write a function to train the model for one epoch. This function is reusable for other projects.\n",
    "1. **running_loss += loss.item()**: get the running loss for each batch to calculate the average loss later\n",
    "2. **optimizer.zero_grad()**: clears x.grad for every parameter x in the optimizer. It’s important to call this before loss.backward(), otherwise you’ll accumulate the gradients from multiple passes.\n",
    "3. **loss.backward()**: backpropagation - computes dloss/dx for every parameter x which has requires_grad=True. These are accumulated into x.grad for every parameter x. In pseudo-code: `x.grad += dloss/dx for every parameter x`\n",
    "4. **optimizer.step()**: update the parameters using the gradients computed in the previous step"
   ]
  },
  {
   "cell_type": "code",
   "execution_count": 102,
   "metadata": {},
   "outputs": [],
   "source": [
    "def train_one_epoch(loss_function, optimizer, model, train_loader):\n",
    "    model.train(True)\n",
    "    print(f'Epoch: {epoch + 1}')\n",
    "    running_loss = 0.0\n",
    "\n",
    "    for batch_index, batch in enumerate(train_loader):\n",
    "        x_batch, y_batch = batch[0].to(device), batch[1].to(device)\n",
    "\n",
    "        output = model(x_batch)\n",
    "        loss = loss_function(output, y_batch)\n",
    "        running_loss += loss.item()\n",
    "        optimizer.zero_grad()\n",
    "        loss.backward()\n",
    "        optimizer.step()\n",
    "\n",
    "        if batch_index % 100 == 99: # print every 100 batches\n",
    "            avg_loss_across_batches = running_loss / 100\n",
    "            print(f'Batch: {batch_index + 1}, Loss: {avg_loss_across_batches:.3f}')\n",
    "            running_loss = 0.0\n",
    "    print()"
   ]
  },
  {
   "attachments": {},
   "cell_type": "markdown",
   "metadata": {},
   "source": [
    "Write a function to evaluate the model for one epoch. This function is reusable for other projects."
   ]
  },
  {
   "cell_type": "code",
   "execution_count": 103,
   "metadata": {},
   "outputs": [],
   "source": [
    "def validate_one_epoch(model, loss_function, test_loader):\n",
    "    model.train(False)\n",
    "    running_loss = 0.0\n",
    "\n",
    "    for batch_index, batch in enumerate(test_loader):\n",
    "        x_batch, y_batch = batch[0].to(device), batch[1].to(device)\n",
    "\n",
    "        with torch.no_grad():\n",
    "            output = model(x_batch)\n",
    "            loss = loss_function(output, y_batch)\n",
    "            running_loss += loss.item()\n",
    "\n",
    "    avg_loss_across_batches = running_loss / len(test_loader)\n",
    "\n",
    "    print(f'Validation Loss: {avg_loss_across_batches:.3f}')\n",
    "    print('*************************************************')\n",
    "    print()"
   ]
  },
  {
   "attachments": {},
   "cell_type": "markdown",
   "metadata": {},
   "source": [
    "We will train the model for 10 epochs, use MSE loss and Adam optimizer. We will print out the training loss and validation loss for each epoch. We will also plot the training loss and validation loss for each epoch."
   ]
  },
  {
   "cell_type": "code",
   "execution_count": 104,
   "metadata": {},
   "outputs": [
    {
     "name": "stdout",
     "output_type": "stream",
     "text": [
      "Epoch: 1\n"
     ]
    },
    {
     "name": "stdout",
     "output_type": "stream",
     "text": [
      "Batch: 100, Loss: 0.824\n",
      "Batch: 200, Loss: 0.309\n",
      "Batch: 300, Loss: 0.100\n",
      "\n",
      "Validation Loss: 0.210\n",
      "*************************************************\n",
      "\n",
      "Epoch: 2\n",
      "Batch: 100, Loss: 0.036\n",
      "Batch: 200, Loss: 0.017\n",
      "Batch: 300, Loss: 0.011\n",
      "\n",
      "Validation Loss: 0.016\n",
      "*************************************************\n",
      "\n",
      "Epoch: 3\n",
      "Batch: 100, Loss: 0.004\n",
      "Batch: 200, Loss: 0.003\n",
      "Batch: 300, Loss: 0.002\n",
      "\n",
      "Validation Loss: 0.008\n",
      "*************************************************\n",
      "\n",
      "Epoch: 4\n",
      "Batch: 100, Loss: 0.002\n",
      "Batch: 200, Loss: 0.001\n",
      "Batch: 300, Loss: 0.001\n",
      "\n",
      "Validation Loss: 0.005\n",
      "*************************************************\n",
      "\n",
      "Epoch: 5\n",
      "Batch: 100, Loss: 0.001\n",
      "Batch: 200, Loss: 0.001\n",
      "Batch: 300, Loss: 0.000\n",
      "\n",
      "Validation Loss: 0.003\n",
      "*************************************************\n",
      "\n",
      "Epoch: 6\n",
      "Batch: 100, Loss: 0.000\n",
      "Batch: 200, Loss: 0.000\n",
      "Batch: 300, Loss: 0.000\n",
      "\n",
      "Validation Loss: 0.003\n",
      "*************************************************\n",
      "\n",
      "Epoch: 7\n",
      "Batch: 100, Loss: 0.000\n",
      "Batch: 200, Loss: 0.000\n",
      "Batch: 300, Loss: 0.000\n",
      "\n",
      "Validation Loss: 0.003\n",
      "*************************************************\n",
      "\n",
      "Epoch: 8\n",
      "Batch: 100, Loss: 0.000\n",
      "Batch: 200, Loss: 0.000\n",
      "Batch: 300, Loss: 0.000\n",
      "\n",
      "Validation Loss: 0.003\n",
      "*************************************************\n",
      "\n",
      "Epoch: 9\n",
      "Batch: 100, Loss: 0.000\n",
      "Batch: 200, Loss: 0.000\n",
      "Batch: 300, Loss: 0.000\n",
      "\n",
      "Validation Loss: 0.003\n",
      "*************************************************\n",
      "\n",
      "Epoch: 10\n",
      "Batch: 100, Loss: 0.000\n",
      "Batch: 200, Loss: 0.000\n",
      "Batch: 300, Loss: 0.000\n",
      "\n",
      "Validation Loss: 0.003\n",
      "*************************************************\n",
      "\n"
     ]
    }
   ],
   "source": [
    "learning_rate = 0.001\n",
    "num_epochs = 10\n",
    "mse_loss = nn.MSELoss()\n",
    "adam_optimizer = torch.optim.Adam(model.parameters(), lr=learning_rate)\n",
    "\n",
    "for epoch in range(num_epochs):\n",
    "    train_one_epoch(loss_function = mse_loss, optimizer = adam_optimizer, model = model, train_loader = train_loader)\n",
    "    validate_one_epoch(model = model, loss_function = mse_loss, test_loader = test_loader)"
   ]
  },
  {
   "attachments": {},
   "cell_type": "markdown",
   "metadata": {},
   "source": [
    "# Make Predictions\n",
    "There are two approaches you can used to make inference from the model.\n",
    "\n",
    "**Approach 1**\n",
    "```\n",
    "with torch.no_grad():\n",
    "    predictions = model(X_test.to(device)).to('cpu').numpy()\n",
    "```\n",
    "1. `with torch.no_grad():` \n",
    "This line establishes a context using `torch.no_grad()`. This context ensures that no gradient calculations are performed within it. It is typically used during inference or evaluation when we don't need to compute gradients for backpropagation. By disabling gradient calculations, it improves efficiency and reduces memory consumption.\n",
    "2. `predictions = model(X_test.to(device)).to('cpu').numpy()`\n",
    "- Within the **torch.no_grad() context**, this line performs the predictions on the test data (X_test) using the model.\n",
    "- **X_test.to(device)** ensures that the test data is on the appropriate device (e.g., GPU) if available.\n",
    "- **model(X_test.to(device))** passes the test data through the model to obtain the predictions.\n",
    "- **to('cpu')** moves the predictions from the device (e.g., GPU) to the CPU.\n",
    "- **numpy()** converts the predictions from a PyTorch tensor to a NumPy array.\n",
    "- The resulting predictions array contains the predicted values from the model.\n",
    "\n",
    "**Approach 2**\n",
    "```\n",
    "predictions = model(X_test.to(device)).detach().cpu().numpy()\n",
    "```\n",
    "- **model(X_test.to(device))** This line passes the test data (X_test) to the model for prediction. The to(device) function is used to ensure that the data is on the correct device (e.g., GPU) if available.\n",
    "- **detach()** This function detaches the output tensor from the computation graph, making it a standalone tensor that doesn't require gradients. This is useful when we only need the values and don't want to track gradients during inference.\n",
    "- **cpu()** This function moves the tensor from the GPU (if it was on GPU) to the CPU.\n",
    "- **numpy()** This function converts the tensor to a NumPy array.\n",
    "- The resulting array contains the predictions made by the model on the test data.\n",
    "\n",
    "\n",
    "**When to use `tensor.to(device)` or `Module.nn.to(device)`?** <br>\n",
    "If you have a tensor and you want to move it to GPU, use `tensor.to(device)`. If you have a model and you want to move all the parameters of the model to GPU, use `Module.nn.to(device)`. It is neccessary to have both model and the data on the same device, either CPU or GPU, for the model to process the data. Data on CPU and model on GPU, or vice versa, will cause a Runtime error."
   ]
  },
  {
   "attachments": {},
   "cell_type": "markdown",
   "metadata": {},
   "source": [
    "## Make Predictions on Training Set\n",
    "We will make predictions on the training set and plot the predictions against the actual values. We will also transform the predictions and actual values back to the original scale.\n",
    "\n"
   ]
  },
  {
   "attachments": {},
   "cell_type": "markdown",
   "metadata": {},
   "source": [
    "Step by Step explaination of the scale_back_transform function:\n",
    "- `flat_scaled_values = sacled_values.flatten()` This function flattens the array, converting it from a multi-dimensional array to a 1-dimensional array.\n",
    "- `dummies = np.zeros((data.shape[0], lookback + 1))` This line creates a NumPy array (dummies) of shape (data.shape[0], lookback + 1) filled with zeros. It is initialized to store the predictions and additional values.\n",
    "- `dummies[:, 0] = flat_scaled_values` This line assigns the flat_scaled_values array to the first column ([:, 0]) of the dummies array. This is done to store the predicted values in the first column while keeping the remaining columns (if any) filled with zeros.\n",
    "- `dummies = scaler.inverse_transform(dummies)` Assuming a scaler object is defined elsewhere, this line applies an inverse transformation to the dummies array. It reverses the scaling operation that was applied to the data during preprocessing. The purpose is to obtain the predictions in their original scale or units.\n",
    "- `scale_back_values = dc(dummies[:, 0])` This line assigns the scaled back predicted values or labels to scale_back_values.\n",
    "\n",
    "Overall, this code block predicts the values for the test data using the model, transforms the predictions back to their original scale using scaler.inverse_transform, and extracts the predicted values into the test_predictions array for further analysis."
   ]
  },
  {
   "cell_type": "code",
   "execution_count": 105,
   "metadata": {},
   "outputs": [],
   "source": [
    "def scale_back_transform(sacled_values, data, scaler):\n",
    "    \"\"\" \n",
    "    This function is used to scale back the predictions/labels to the original scale.\n",
    "    param: \n",
    "    - scaled_values: the predictions/labels that are scaled using the scaler\n",
    "    - data: the original data\n",
    "    - scaler: the scaler used to scale the data\n",
    "    \"\"\"\n",
    "    flat_scaled_values = sacled_values.flatten()\n",
    "\n",
    "    dummies = np.zeros((data.shape[0], lookback + 1))\n",
    "    dummies[:, 0] = flat_scaled_values\n",
    "    dummies = scaler.inverse_transform(dummies)\n",
    "\n",
    "    scale_back_values = dc(dummies[:, 0])\n",
    "\n",
    "    return scale_back_values"
   ]
  },
  {
   "cell_type": "code",
   "execution_count": 106,
   "metadata": {},
   "outputs": [
    {
     "data": {
      "text/plain": [
       "array([  0.61788571,   0.6172632 ,   0.61699641, ..., 170.02796543,\n",
       "       169.01490857, 169.61573056])"
      ]
     },
     "execution_count": 106,
     "metadata": {},
     "output_type": "execute_result"
    }
   ],
   "source": [
    "with torch.no_grad():\n",
    "    train_predicted = model(X_train.to(device)).to('cpu').numpy()\n",
    "\n",
    "# transform the predicted values back to the original scale\n",
    "scale_back_train_pred = scale_back_transform(sacled_values = train_predicted, data = X_train, scaler = scaler)\n",
    "scale_back_train_pred"
   ]
  },
  {
   "cell_type": "code",
   "execution_count": 107,
   "metadata": {},
   "outputs": [
    {
     "data": {
      "text/plain": [
       "array([7.91646265e-02, 7.65634249e-02, 7.52572660e-02, ...,\n",
       "       1.69091505e+02, 1.73315001e+02, 1.68871003e+02])"
      ]
     },
     "execution_count": 107,
     "metadata": {},
     "output_type": "execute_result"
    }
   ],
   "source": [
    "# tranform the actual values back to the original scale\n",
    "scale_back_y_train = scale_back_transform(sacled_values = y_train, data = X_train, scaler = scaler)\n",
    "scale_back_y_train"
   ]
  },
  {
   "cell_type": "code",
   "execution_count": 108,
   "metadata": {},
   "outputs": [
    {
     "data": {
      "image/png": "[encoded data removed]",
      "text/plain": [
       "<Figure size 640x480 with 1 Axes>"
      ]
     },
     "metadata": {},
     "output_type": "display_data"
    }
   ],
   "source": [
    "plt.plot(scale_back_y_train, label='Actual Close')\n",
    "plt.plot(scale_back_train_pred, label='Predicted Close')\n",
    "plt.xlabel('Day')\n",
    "plt.ylabel('Close')\n",
    "plt.legend()\n",
    "plt.title('Predicted vs Actual Close on Training Set (Original Scale)')\n",
    "plt.show()\n",
    "# the shape of the graph remain the same, the scale of the y-axis is different"
   ]
  },
  {
   "attachments": {},
   "cell_type": "markdown",
   "metadata": {},
   "source": [
    "## Make Predictions on Test Set"
   ]
  },
  {
   "cell_type": "code",
   "execution_count": 109,
   "metadata": {},
   "outputs": [
    {
     "data": {
      "text/plain": [
       "(326,)"
      ]
     },
     "execution_count": 109,
     "metadata": {},
     "output_type": "execute_result"
    }
   ],
   "source": [
    "# make predictions on the test set\n",
    "test_predictions = model(X_test.to(device)).detach().cpu().numpy()\n",
    "\n",
    "# transform the predicted values back to the original scale\n",
    "scale_back_test_pred = scale_back_transform(sacled_values = test_predictions, data = X_test, scaler = scaler)\n",
    "scale_back_test_pred.shape"
   ]
  },
  {
   "cell_type": "code",
   "execution_count": 110,
   "metadata": {},
   "outputs": [
    {
     "data": {
      "text/plain": [
       "(326,)"
      ]
     },
     "execution_count": 110,
     "metadata": {},
     "output_type": "execute_result"
    }
   ],
   "source": [
    "# tranform the actual values back to the original scale\n",
    "scale_back_y_test = scale_back_transform(sacled_values = y_test, data = X_test, scaler = scaler)\n",
    "scale_back_y_test.shape"
   ]
  },
  {
   "cell_type": "code",
   "execution_count": 111,
   "metadata": {},
   "outputs": [
    {
     "data": {
      "image/png": "[encoded data removed]",
      "text/plain": [
       "<Figure size 640x480 with 1 Axes>"
      ]
     },
     "metadata": {},
     "output_type": "display_data"
    }
   ],
   "source": [
    "plt.plot(scale_back_y_test, label='Actual Close')\n",
    "plt.plot(scale_back_test_pred, label='Predicted Close')\n",
    "plt.xlabel('Day')\n",
    "plt.ylabel('Close')\n",
    "plt.legend()\n",
    "plt.title('Predicted vs Actual Close on Test Set (Original Scale)')\n",
    "plt.show()"
   ]
  }
 ],
 "metadata": {
  "kernelspec": {
   "display_name": "dl_training",
   "language": "python",
   "name": "python3"
  },
  "language_info": {
   "codemirror_mode": {
    "name": "ipython",
    "version": 3
   },
   "file_extension": ".py",
   "mimetype": "text/x-python",
   "name": "python",
   "nbconvert_exporter": "python",
   "pygments_lexer": "ipython3",
   "version": "3.11.3"
  },
  "orig_nbformat": 4
 },
 "nbformat": 4,
 "nbformat_minor": 2
}
